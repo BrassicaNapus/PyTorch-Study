{
  "nbformat": 4,
  "nbformat_minor": 0,
  "metadata": {
    "colab": {
      "name": "PyTorch 04-1 Multivariate Linear Regression.ipynb",
      "provenance": [],
      "authorship_tag": "ABX9TyONDTXZBXxWPZI8PB4xSgt+",
      "include_colab_link": true
    },
    "kernelspec": {
      "name": "python3",
      "display_name": "Python 3"
    },
    "language_info": {
      "name": "python"
    }
  },
  "cells": [
    {
      "cell_type": "markdown",
      "metadata": {
        "id": "view-in-github",
        "colab_type": "text"
      },
      "source": [
        "<a href=\"https://colab.research.google.com/github/BrassicaNapus/PyTorch-Study/blob/main/PyTorch_04_1_Multivariate_Linear_Regression.ipynb\" target=\"_parent\"><img src=\"https://colab.research.google.com/assets/colab-badge.svg\" alt=\"Open In Colab\"/></a>"
      ]
    },
    {
      "cell_type": "code",
      "execution_count": 1,
      "metadata": {
        "id": "KUFUFf7IKE3n"
      },
      "outputs": [],
      "source": [
        "import torch\n",
        "import torch.optim as optim"
      ]
    },
    {
      "cell_type": "code",
      "source": [
        "x_train = torch.FloatTensor([[73, 80, 75],\n",
        "                             [93, 88, 93],\n",
        "                             [89, 91, 90],\n",
        "                             [96, 98, 100],\n",
        "                             [73, 66, 70]])\n",
        "y_train = torch.FloatTensor([[152],\n",
        "                             [185],\n",
        "                             [180],\n",
        "                             [196],\n",
        "                             [142]])"
      ],
      "metadata": {
        "id": "cNiuOFtXML0u"
      },
      "execution_count": 2,
      "outputs": []
    },
    {
      "cell_type": "code",
      "source": [
        "w = torch.zeros((3, 1), requires_grad=True)\n",
        "b = torch.zeros(1, requires_grad=True)"
      ],
      "metadata": {
        "id": "e2jpPmNsNIEW"
      },
      "execution_count": 8,
      "outputs": []
    },
    {
      "cell_type": "code",
      "source": [
        "# hypothesis = x1_train * w1 + x2_train * w2 + x3_train * w3 + b\n",
        "hypothesis = x_train.matmul(w) + b"
      ],
      "metadata": {
        "id": "_AksgHJVMmM1"
      },
      "execution_count": 9,
      "outputs": []
    },
    {
      "cell_type": "code",
      "source": [
        "cost = torch.mean((hypothesis - y_train) ** 2)"
      ],
      "metadata": {
        "id": "pIQPCBFvNP9g"
      },
      "execution_count": 10,
      "outputs": []
    },
    {
      "cell_type": "code",
      "source": [
        "# optimizer 설정\n",
        "optimizer = optim.SGD([w, b], lr=1e-5)\n",
        "\n",
        "# optimizer 사용법\n",
        "optimizer.zero_grad()\n",
        "cost.backward()\n",
        "optimizer.step()"
      ],
      "metadata": {
        "id": "kxzAoaAUOVwK"
      },
      "execution_count": 11,
      "outputs": []
    },
    {
      "cell_type": "code",
      "source": [
        "# 데이터\n",
        "x_train = torch.FloatTensor([[73, 80, 75],\n",
        "                             [93, 88, 93],\n",
        "                             [89, 91, 90],\n",
        "                             [96, 98, 100],\n",
        "                             [73, 66, 70]])\n",
        "y_train = torch.FloatTensor([[152],\n",
        "                             [185],\n",
        "                             [180],\n",
        "                             [196],\n",
        "                             [142]])\n",
        "\n",
        "# 모델 초기화\n",
        "w = torch.zeros((3, 1), requires_grad=True)\n",
        "b = torch.zeros(1, requires_grad=True)\n",
        "\n",
        "# optimizer 설정\n",
        "optimizer = optim.SGD([w, b], lr=1e-5)\n",
        "\n",
        "epochs = 20\n",
        "for epoch in range(epochs + 1):\n",
        "\n",
        "    # H(X) 계산\n",
        "    hypothesis = x_train.matmul(w) + b\n",
        "\n",
        "    # cost 계산\n",
        "    cost = torch.mean((hypothesis - y_train) ** 2)\n",
        "\n",
        "    # cost로 H(x) 개선\n",
        "    optimizer.zero_grad()\n",
        "    cost.backward()\n",
        "    optimizer.step()\n",
        "\n",
        "    print(epoch, hypothesis.squeeze().detach(), cost.item())"
      ],
      "metadata": {
        "colab": {
          "base_uri": "https://localhost:8080/"
        },
        "id": "P4u_bwDqOeCE",
        "outputId": "4238699a-9f97-4cf4-ac04-0b3e4d62adad"
      },
      "execution_count": 12,
      "outputs": [
        {
          "output_type": "stream",
          "name": "stdout",
          "text": [
            "0 tensor([0., 0., 0., 0., 0.]) 29661.80078125\n",
            "1 tensor([67.2578, 80.8397, 79.6523, 86.7394, 61.6605]) 9298.5205078125\n",
            "2 tensor([104.9128, 126.0990, 124.2466, 135.3015,  96.1821]) 2915.71240234375\n",
            "3 tensor([125.9942, 151.4381, 149.2133, 162.4896, 115.5097]) 915.04052734375\n",
            "4 tensor([137.7967, 165.6247, 163.1911, 177.7112, 126.3307]) 287.93609619140625\n",
            "5 tensor([144.4044, 173.5674, 171.0168, 186.2332, 132.3891]) 91.37106323242188\n",
            "6 tensor([148.1035, 178.0143, 175.3980, 191.0042, 135.7812]) 29.758249282836914\n",
            "7 tensor([150.1744, 180.5042, 177.8509, 193.6753, 137.6805]) 10.445266723632812\n",
            "8 tensor([151.3336, 181.8983, 179.2240, 195.1707, 138.7440]) 4.391237258911133\n",
            "9 tensor([151.9824, 182.6789, 179.9928, 196.0079, 139.3396]) 2.493121385574341\n",
            "10 tensor([152.3454, 183.1161, 180.4231, 196.4765, 139.6732]) 1.8976879119873047\n",
            "11 tensor([152.5485, 183.3609, 180.6640, 196.7389, 139.8602]) 1.7105515003204346\n",
            "12 tensor([152.6620, 183.4982, 180.7988, 196.8857, 139.9651]) 1.6514164209365845\n",
            "13 tensor([152.7253, 183.5752, 180.8742, 196.9678, 140.0240]) 1.632368803024292\n",
            "14 tensor([152.7606, 183.6184, 180.9164, 197.0138, 140.0571]) 1.625923752784729\n",
            "15 tensor([152.7802, 183.6427, 180.9399, 197.0395, 140.0759]) 1.6234203577041626\n",
            "16 tensor([152.7909, 183.6565, 180.9530, 197.0538, 140.0865]) 1.6221520900726318\n",
            "17 tensor([152.7968, 183.6643, 180.9603, 197.0618, 140.0927]) 1.6212615966796875\n",
            "18 tensor([152.7999, 183.6688, 180.9644, 197.0661, 140.0963]) 1.6205012798309326\n",
            "19 tensor([152.8014, 183.6715, 180.9665, 197.0686, 140.0985]) 1.6197574138641357\n",
            "20 tensor([152.8020, 183.6731, 180.9677, 197.0699, 140.0999]) 1.619045615196228\n"
          ]
        }
      ]
    }
  ]
}