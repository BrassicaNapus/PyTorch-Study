{
  "nbformat": 4,
  "nbformat_minor": 0,
  "metadata": {
    "colab": {
      "name": "PyTorch 1-1.ipynb",
      "provenance": [],
      "collapsed_sections": [],
      "authorship_tag": "ABX9TyNFYlu1sOsazSstuOxBqrEB",
      "include_colab_link": true
    },
    "kernelspec": {
      "name": "python3",
      "display_name": "Python 3"
    },
    "language_info": {
      "name": "python"
    }
  },
  "cells": [
    {
      "cell_type": "markdown",
      "metadata": {
        "id": "view-in-github",
        "colab_type": "text"
      },
      "source": [
        "<a href=\"https://colab.research.google.com/github/BrassicaNapus/Pytorch-Study/blob/main/PyTorch_1_1.ipynb\" target=\"_parent\"><img src=\"https://colab.research.google.com/assets/colab-badge.svg\" alt=\"Open In Colab\"/></a>"
      ]
    },
    {
      "cell_type": "markdown",
      "source": [
        "# 1D Array with Numpy"
      ],
      "metadata": {
        "id": "allKM5IQoAkS"
      }
    },
    {
      "cell_type": "code",
      "source": [
        "import numpy as np\n",
        "import torch"
      ],
      "metadata": {
        "id": "Pbt_8KFZqOhy"
      },
      "execution_count": 1,
      "outputs": []
    },
    {
      "cell_type": "code",
      "source": [
        "t = np.array([0, 1, 2, 3, 4, 5, 6])\n",
        "t"
      ],
      "metadata": {
        "colab": {
          "base_uri": "https://localhost:8080/"
        },
        "id": "veVXo_1fmgL8",
        "outputId": "82781b05-d010-4d4b-b34c-281df695e0f6"
      },
      "execution_count": 3,
      "outputs": [
        {
          "output_type": "execute_result",
          "data": {
            "text/plain": [
              "array([0, 1, 2, 3, 4, 5, 6])"
            ]
          },
          "metadata": {},
          "execution_count": 3
        }
      ]
    },
    {
      "cell_type": "code",
      "source": [
        "print('Rank of t: ', t.ndim) #차원\n",
        "print('Shape of t: ', t.shape) #하나의 차원에 7개의 elements가 들어있다"
      ],
      "metadata": {
        "colab": {
          "base_uri": "https://localhost:8080/"
        },
        "id": "gvQFqKxrmkbA",
        "outputId": "98bdebd5-d3f6-438d-bdaf-5ee5b02b77c7"
      },
      "execution_count": 4,
      "outputs": [
        {
          "output_type": "stream",
          "name": "stdout",
          "text": [
            "Rank of t:  1\n",
            "Shape of t:  (7,)\n"
          ]
        }
      ]
    },
    {
      "cell_type": "code",
      "source": [
        "print('t[0] t[1] t[-1] = ', t[0], t[1], t[-1]) #Element\n",
        "print('t[2:5] t[4:-1] = ', t[2:5], t[4:-1]) #Slicing\n",
        "print('t[:2] t[3:] = ', t[:2], t[3:]) #Slicing"
      ],
      "metadata": {
        "colab": {
          "base_uri": "https://localhost:8080/"
        },
        "id": "Qk_YCvF_mzQm",
        "outputId": "7fefa0a2-61f9-450b-ae89-e52c146315f5"
      },
      "execution_count": 7,
      "outputs": [
        {
          "output_type": "stream",
          "name": "stdout",
          "text": [
            "t[0] t[1] t[-1] =  0 1 6\n",
            "t[2:5] t[4:-1] =  [2 3 4] [4 5]\n",
            "t[:2] t[3:] =  [0 1] [3 4 5 6]\n"
          ]
        }
      ]
    },
    {
      "cell_type": "markdown",
      "source": [
        "# 2D Array with Numpy"
      ],
      "metadata": {
        "id": "TApAyl8uoM-N"
      }
    },
    {
      "cell_type": "code",
      "source": [
        "t = np.array([[1, 2, 3],\n",
        "              [4, 5, 6],\n",
        "              [7, 8, 9],\n",
        "              [10, 11, 12]])\n",
        "t"
      ],
      "metadata": {
        "colab": {
          "base_uri": "https://localhost:8080/"
        },
        "id": "td-xK60Ono7k",
        "outputId": "d2751890-6a19-486a-fc12-58fa7c1ccfda"
      },
      "execution_count": 9,
      "outputs": [
        {
          "output_type": "execute_result",
          "data": {
            "text/plain": [
              "array([[ 1,  2,  3],\n",
              "       [ 4,  5,  6],\n",
              "       [ 7,  8,  9],\n",
              "       [10, 11, 12]])"
            ]
          },
          "metadata": {},
          "execution_count": 9
        }
      ]
    },
    {
      "cell_type": "code",
      "source": [
        "print('Rank of t: ', t.ndim) #차원\n",
        "print('Shape of t: ', t.shape) #2개의 차원에 (4, 3)개의 elements가 들어있다"
      ],
      "metadata": {
        "colab": {
          "base_uri": "https://localhost:8080/"
        },
        "id": "dCc2ZXVuotTj",
        "outputId": "5c182948-54d7-4777-90ec-375634160bd2"
      },
      "execution_count": 10,
      "outputs": [
        {
          "output_type": "stream",
          "name": "stdout",
          "text": [
            "Rank of t:  2\n",
            "Shape of t:  (4, 3)\n"
          ]
        }
      ]
    },
    {
      "cell_type": "markdown",
      "source": [
        "# 1D Array with pytorch"
      ],
      "metadata": {
        "id": "c4PVxmg3prsZ"
      }
    },
    {
      "cell_type": "code",
      "source": [
        "t = torch.FloatTensor([0, 1, 2, 3, 4, 5, 6])\n",
        "t"
      ],
      "metadata": {
        "colab": {
          "base_uri": "https://localhost:8080/"
        },
        "id": "Q2_CJ7p4pUXq",
        "outputId": "068f1ab7-9140-4993-96e1-54ba139e4e19"
      },
      "execution_count": 13,
      "outputs": [
        {
          "output_type": "execute_result",
          "data": {
            "text/plain": [
              "tensor([0., 1., 2., 3., 4., 5., 6.])"
            ]
          },
          "metadata": {},
          "execution_count": 13
        }
      ]
    },
    {
      "cell_type": "code",
      "source": [
        "print(t.dim()) #rank\n",
        "print(t.shape) #shape\n",
        "print(t.size()) #shape\n",
        "print(t[0], t[1], t[-1]) #Element\n",
        "print(t[2:5], t[4:-1]) #Slicing\n",
        "print(t[:2], t[3:]) #Slicing"
      ],
      "metadata": {
        "colab": {
          "base_uri": "https://localhost:8080/"
        },
        "id": "8ljfL8-HpoAt",
        "outputId": "abd7f39b-40a7-4152-afe6-7e7501b68607"
      },
      "execution_count": 14,
      "outputs": [
        {
          "output_type": "stream",
          "name": "stdout",
          "text": [
            "1\n",
            "torch.Size([7])\n",
            "torch.Size([7])\n",
            "tensor(0.) tensor(1.) tensor(6.)\n",
            "tensor([2., 3., 4.]) tensor([4., 5.])\n",
            "tensor([0., 1.]) tensor([3., 4., 5., 6.])\n"
          ]
        }
      ]
    },
    {
      "cell_type": "markdown",
      "source": [
        "# 2D Array with pytorch"
      ],
      "metadata": {
        "id": "2-cgre8bql8b"
      }
    },
    {
      "cell_type": "code",
      "source": [
        "t = torch.FloatTensor([[1, 2, 3],\n",
        "                       [4, 5, 6],\n",
        "                       [7, 8, 9],\n",
        "                       [10, 11, 12]])\n",
        "t"
      ],
      "metadata": {
        "colab": {
          "base_uri": "https://localhost:8080/"
        },
        "id": "avPAZ7tMqX9l",
        "outputId": "a524bf78-14be-4193-bc28-4a42fbc91b6f"
      },
      "execution_count": 15,
      "outputs": [
        {
          "output_type": "execute_result",
          "data": {
            "text/plain": [
              "tensor([[ 1.,  2.,  3.],\n",
              "        [ 4.,  5.,  6.],\n",
              "        [ 7.,  8.,  9.],\n",
              "        [10., 11., 12.]])"
            ]
          },
          "metadata": {},
          "execution_count": 15
        }
      ]
    },
    {
      "cell_type": "code",
      "source": [
        "print(t.dim()) #rank\n",
        "print(t.shape) #shape\n",
        "print(t.size()) #shape\n",
        "print(t[0], t[1], t[-1]) #Element\n",
        "print(t[:, 2])\n",
        "print(t[:, 2].size())\n",
        "print(t[:, :-1])\n",
        "print(t[:, :-1].size())"
      ],
      "metadata": {
        "colab": {
          "base_uri": "https://localhost:8080/"
        },
        "id": "ZXYnGP8-rD_0",
        "outputId": "a3687089-8a74-47d6-d51f-559a6b5e44e2"
      },
      "execution_count": 24,
      "outputs": [
        {
          "output_type": "stream",
          "name": "stdout",
          "text": [
            "2\n",
            "torch.Size([4, 3])\n",
            "torch.Size([4, 3])\n",
            "tensor([1., 2., 3.]) tensor([4., 5., 6.]) tensor([10., 11., 12.])\n",
            "tensor([ 3.,  6.,  9., 12.])\n",
            "torch.Size([4])\n",
            "tensor([[ 1.,  2.],\n",
            "        [ 4.,  5.],\n",
            "        [ 7.,  8.],\n",
            "        [10., 11.]])\n",
            "torch.Size([4, 2])\n"
          ]
        }
      ]
    },
    {
      "cell_type": "markdown",
      "source": [
        "# Broadcasting"
      ],
      "metadata": {
        "id": "3O-ftwuMs6wa"
      }
    },
    {
      "cell_type": "code",
      "source": [
        "# same shape\n",
        "m1 = torch.FloatTensor([[3, 3]]) # |m1| = (1, 2)\n",
        "m2 = torch.FloatTensor([[2, 2]]) # |m1| = |m2|\n",
        "m1 + m2"
      ],
      "metadata": {
        "colab": {
          "base_uri": "https://localhost:8080/"
        },
        "id": "D7ybX6YtrHaC",
        "outputId": "9d7e3c9e-98d3-4366-f9f8-1818d93eddc9"
      },
      "execution_count": 25,
      "outputs": [
        {
          "output_type": "execute_result",
          "data": {
            "text/plain": [
              "tensor([[5., 5.]])"
            ]
          },
          "metadata": {},
          "execution_count": 25
        }
      ]
    },
    {
      "cell_type": "code",
      "source": [
        "# vector + scalar\n",
        "m1 = torch.FloatTensor([[1, 2]]) # |m1| = (1, 2)\n",
        "m2 = torch.FloatTensor([3]) # |m2| = (1,) -> (1, 2)\n",
        "m1 + m2"
      ],
      "metadata": {
        "colab": {
          "base_uri": "https://localhost:8080/"
        },
        "id": "gjaaMPdftzhz",
        "outputId": "53ff504b-c327-4928-930e-ede3ec56e306"
      },
      "execution_count": 26,
      "outputs": [
        {
          "output_type": "execute_result",
          "data": {
            "text/plain": [
              "tensor([[4., 5.]])"
            ]
          },
          "metadata": {},
          "execution_count": 26
        }
      ]
    },
    {
      "cell_type": "code",
      "source": [
        "# 2 x 1 vector + 1 x 2 vector\n",
        "m1 = torch.FloatTensor([[1, 2]]) # (1, 2) -> (2, 2)\n",
        "m2 = torch.FloatTensor([[3],\n",
        "                        [4]]) # (2, 1) -> (2, 2)\n",
        "m1 + m2"
      ],
      "metadata": {
        "colab": {
          "base_uri": "https://localhost:8080/"
        },
        "id": "leXTrot7uL3m",
        "outputId": "ea6e5b96-5e78-4399-a3df-ecd8d9aa3c6e"
      },
      "execution_count": 28,
      "outputs": [
        {
          "output_type": "execute_result",
          "data": {
            "text/plain": [
              "tensor([[4., 5.],\n",
              "        [5., 6.]])"
            ]
          },
          "metadata": {},
          "execution_count": 28
        }
      ]
    },
    {
      "cell_type": "markdown",
      "source": [
        "# Multiplication vs Matrix Multiplication"
      ],
      "metadata": {
        "id": "YfO0nDSxvloK"
      }
    },
    {
      "cell_type": "code",
      "source": [
        "print()\n",
        "print('-------------')\n",
        "print('Mul vs Matmul')\n",
        "print('-------------')\n",
        "m1 = torch.FloatTensor([[1, 2],\n",
        "                        [3, 4]])\n",
        "m2 = torch.FloatTensor([[1],\n",
        "                        [2]])\n",
        "print('shape of matrix 1: ', m1.shape) # 2 x 2\n",
        "print('shape of matrix 2: ', m2.shape) # 2 x 1\n",
        "print(m1.matmul(m2)) # 2 x 1\n",
        "\n",
        "m1 = torch.FloatTensor([[1, 2],\n",
        "                        [3, 4]])\n",
        "m2 = torch.FloatTensor([[1],\n",
        "                        [2]])\n",
        "print('shape of matrix 1: ', m1.shape) # 2 x 2\n",
        "print('shape of matrix 2: ', m2.shape) # 2 x 1 -> 2 x 2\n",
        "print(m1 * m2) # 2 x 2\n",
        "print(m1.mul(m2))"
      ],
      "metadata": {
        "colab": {
          "base_uri": "https://localhost:8080/"
        },
        "id": "dCsfvBOfw08z",
        "outputId": "97abeeff-581f-4d2e-a568-ed617764c1b4"
      },
      "execution_count": 33,
      "outputs": [
        {
          "output_type": "stream",
          "name": "stdout",
          "text": [
            "\n",
            "-------------\n",
            "Mul vs Matmul\n",
            "-------------\n",
            "shape of matrix 1:  torch.Size([2, 2])\n",
            "shape of matrix 2:  torch.Size([2, 1])\n",
            "tensor([[ 5.],\n",
            "        [11.]])\n",
            "shape of matrix 1:  torch.Size([2, 2])\n",
            "shape of matrix 2:  torch.Size([2, 1])\n",
            "tensor([[1., 2.],\n",
            "        [6., 8.]])\n",
            "tensor([[1., 2.],\n",
            "        [6., 8.]])\n"
          ]
        }
      ]
    },
    {
      "cell_type": "markdown",
      "source": [
        "# Mean"
      ],
      "metadata": {
        "id": "EWLbQ81PyQhG"
      }
    },
    {
      "cell_type": "code",
      "source": [
        "t = torch.FloatTensor([1, 2])\n",
        "t.mean()"
      ],
      "metadata": {
        "colab": {
          "base_uri": "https://localhost:8080/"
        },
        "id": "Hw8qev-QxaLe",
        "outputId": "e121359f-c6c3-4df3-99fa-b2eeb3824a04"
      },
      "execution_count": 34,
      "outputs": [
        {
          "output_type": "execute_result",
          "data": {
            "text/plain": [
              "tensor(1.5000)"
            ]
          },
          "metadata": {},
          "execution_count": 34
        }
      ]
    },
    {
      "cell_type": "code",
      "source": [
        "# cant use mean() on integers\n",
        "t = torch.LongTensor([1, 2])\n",
        "try:\n",
        "    print(t.mean())\n",
        "except Exception as exc:\n",
        "    print(exc)"
      ],
      "metadata": {
        "colab": {
          "base_uri": "https://localhost:8080/"
        },
        "id": "dGi3JmqXydho",
        "outputId": "efdb1455-c131-4b1c-bd79-b9625540ec6c"
      },
      "execution_count": 35,
      "outputs": [
        {
          "output_type": "stream",
          "name": "stdout",
          "text": [
            "mean(): input dtype should be either floating point or complex dtypes. Got Long instead.\n"
          ]
        }
      ]
    },
    {
      "cell_type": "code",
      "source": [
        "t = torch.FloatTensor([[1, 2],\n",
        "                       [3, 4]])\n",
        "t"
      ],
      "metadata": {
        "colab": {
          "base_uri": "https://localhost:8080/"
        },
        "id": "De6GJRYty1vn",
        "outputId": "63437e45-1d32-4e0c-b35d-886648611999"
      },
      "execution_count": 36,
      "outputs": [
        {
          "output_type": "execute_result",
          "data": {
            "text/plain": [
              "tensor([[1., 2.],\n",
              "        [3., 4.]])"
            ]
          },
          "metadata": {},
          "execution_count": 36
        }
      ]
    },
    {
      "cell_type": "code",
      "source": [
        "print(t.mean())\n",
        "print(t.mean(dim=0))\n",
        "print(t.mean(dim=1))\n",
        "print(t.mean(dim=-1))"
      ],
      "metadata": {
        "colab": {
          "base_uri": "https://localhost:8080/"
        },
        "id": "HJABga1Ty_Rm",
        "outputId": "0267c96d-e66d-43e4-8e2b-70127a1924dc"
      },
      "execution_count": 38,
      "outputs": [
        {
          "output_type": "stream",
          "name": "stdout",
          "text": [
            "tensor(2.5000)\n",
            "tensor([2., 3.])\n",
            "tensor([1.5000, 3.5000])\n",
            "tensor([1.5000, 3.5000])\n"
          ]
        }
      ]
    },
    {
      "cell_type": "markdown",
      "source": [
        "# Sum"
      ],
      "metadata": {
        "id": "wxvEXcYI0YaV"
      }
    },
    {
      "cell_type": "code",
      "source": [
        "t = torch.FloatTensor([[1, 2],\n",
        "                       [3, 4]])\n",
        "t"
      ],
      "metadata": {
        "colab": {
          "base_uri": "https://localhost:8080/"
        },
        "id": "1xLZZsBizL4Z",
        "outputId": "9f57847c-185b-4fa2-e388-15ebae3a3729"
      },
      "execution_count": 39,
      "outputs": [
        {
          "output_type": "execute_result",
          "data": {
            "text/plain": [
              "tensor([[1., 2.],\n",
              "        [3., 4.]])"
            ]
          },
          "metadata": {},
          "execution_count": 39
        }
      ]
    },
    {
      "cell_type": "code",
      "source": [
        "print(t.sum())\n",
        "print(t.sum(dim=0))\n",
        "print(t.sum(dim=1))\n",
        "print(t.sum(dim=-1))"
      ],
      "metadata": {
        "colab": {
          "base_uri": "https://localhost:8080/"
        },
        "id": "GneiIQkw0fDh",
        "outputId": "81ed8756-5322-49d9-b5cb-05ef6dfd6fe4"
      },
      "execution_count": 41,
      "outputs": [
        {
          "output_type": "stream",
          "name": "stdout",
          "text": [
            "tensor(10.)\n",
            "tensor([4., 6.])\n",
            "tensor([3., 7.])\n",
            "tensor([3., 7.])\n"
          ]
        }
      ]
    },
    {
      "cell_type": "markdown",
      "source": [
        "# Max and Argmax"
      ],
      "metadata": {
        "id": "XFkBBhoX1D0e"
      }
    },
    {
      "cell_type": "code",
      "source": [
        "t = torch.FloatTensor([[1, 2],\n",
        "                       [3, 4]])\n",
        "t"
      ],
      "metadata": {
        "colab": {
          "base_uri": "https://localhost:8080/"
        },
        "id": "cPgUMsVu0h9A",
        "outputId": "718f95e1-6a4f-4120-c6ab-dc5bfbf996b8"
      },
      "execution_count": 42,
      "outputs": [
        {
          "output_type": "execute_result",
          "data": {
            "text/plain": [
              "tensor([[1., 2.],\n",
              "        [3., 4.]])"
            ]
          },
          "metadata": {},
          "execution_count": 42
        }
      ]
    },
    {
      "cell_type": "code",
      "source": [
        "t.max()"
      ],
      "metadata": {
        "colab": {
          "base_uri": "https://localhost:8080/"
        },
        "id": "R3o-cEiC1Kqe",
        "outputId": "7feb83df-1cef-4047-dfbd-1b4712323954"
      },
      "execution_count": 43,
      "outputs": [
        {
          "output_type": "execute_result",
          "data": {
            "text/plain": [
              "tensor(4.)"
            ]
          },
          "metadata": {},
          "execution_count": 43
        }
      ]
    },
    {
      "cell_type": "code",
      "source": [
        "print(t.max(dim=0)) #return two values: max and argmax(index)\n",
        "print('Max: ', t.max(dim=0)[0])\n",
        "print('Argmax: ', t.max(dim=0)[1]) # index값"
      ],
      "metadata": {
        "colab": {
          "base_uri": "https://localhost:8080/"
        },
        "id": "YxF6L5th1Ya_",
        "outputId": "f346b685-0ce2-401f-b3a6-b05126a08355"
      },
      "execution_count": 46,
      "outputs": [
        {
          "output_type": "stream",
          "name": "stdout",
          "text": [
            "torch.return_types.max(\n",
            "values=tensor([3., 4.]),\n",
            "indices=tensor([1, 1]))\n",
            "Max:  tensor([3., 4.])\n",
            "Argmax:  tensor([1, 1])\n"
          ]
        }
      ]
    },
    {
      "cell_type": "code",
      "source": [
        "print(t.max(dim=1))\n",
        "print(t.max(dim=-1))"
      ],
      "metadata": {
        "colab": {
          "base_uri": "https://localhost:8080/"
        },
        "id": "C23lsdoq1pOx",
        "outputId": "8c58c6d4-caf6-4ac7-cfa3-a2886e34d33a"
      },
      "execution_count": 47,
      "outputs": [
        {
          "output_type": "stream",
          "name": "stdout",
          "text": [
            "torch.return_types.max(\n",
            "values=tensor([2., 4.]),\n",
            "indices=tensor([1, 1]))\n",
            "torch.return_types.max(\n",
            "values=tensor([2., 4.]),\n",
            "indices=tensor([1, 1]))\n"
          ]
        }
      ]
    }
  ]
}