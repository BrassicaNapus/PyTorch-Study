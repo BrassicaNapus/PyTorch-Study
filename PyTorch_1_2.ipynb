{
  "nbformat": 4,
  "nbformat_minor": 0,
  "metadata": {
    "colab": {
      "name": "PyTorch 1-2.ipynb",
      "provenance": [],
      "authorship_tag": "ABX9TyMPOgaGDz1pZ/9BUnxXpOFu",
      "include_colab_link": true
    },
    "kernelspec": {
      "name": "python3",
      "display_name": "Python 3"
    },
    "language_info": {
      "name": "python"
    }
  },
  "cells": [
    {
      "cell_type": "markdown",
      "metadata": {
        "id": "view-in-github",
        "colab_type": "text"
      },
      "source": [
        "<a href=\"https://colab.research.google.com/github/BrassicaNapus/Pytorch-Study/blob/main/PyTorch_1_2.ipynb\" target=\"_parent\"><img src=\"https://colab.research.google.com/assets/colab-badge.svg\" alt=\"Open In Colab\"/></a>"
      ]
    },
    {
      "cell_type": "markdown",
      "source": [
        "# View (Reshape)"
      ],
      "metadata": {
        "id": "2qGjqjjxr1mB"
      }
    },
    {
      "cell_type": "code",
      "source": [
        "import numpy as np\n",
        "import torch"
      ],
      "metadata": {
        "id": "000m6yQ_sk8e"
      },
      "execution_count": 2,
      "outputs": []
    },
    {
      "cell_type": "code",
      "execution_count": 3,
      "metadata": {
        "colab": {
          "base_uri": "https://localhost:8080/"
        },
        "id": "AgNBYufcrLFt",
        "outputId": "e383d21e-5844-4ec7-ab13-a6bd0ca898f6"
      },
      "outputs": [
        {
          "output_type": "stream",
          "name": "stdout",
          "text": [
            "torch.Size([2, 2, 3])\n"
          ]
        }
      ],
      "source": [
        "t = np.array([\n",
        "              [[0, 1, 2],\n",
        "               [3, 4, 5]],\n",
        "              \n",
        "              [[6, 7, 8],\n",
        "               [9, 10, 11]]\n",
        "])\n",
        "ft = torch.FloatTensor(t)\n",
        "print(ft.shape)"
      ]
    },
    {
      "cell_type": "code",
      "source": [
        "print(ft.view([-1, 3])) # (2, 2, 3) -> (2 x 2, 3)\n",
        "print(ft.view([-1, 3]).shape)"
      ],
      "metadata": {
        "colab": {
          "base_uri": "https://localhost:8080/"
        },
        "id": "fokhFE7vsrMt",
        "outputId": "147beac1-9253-4cfe-d3b7-c5b9f6ab7a32"
      },
      "execution_count": 4,
      "outputs": [
        {
          "output_type": "stream",
          "name": "stdout",
          "text": [
            "tensor([[ 0.,  1.,  2.],\n",
            "        [ 3.,  4.,  5.],\n",
            "        [ 6.,  7.,  8.],\n",
            "        [ 9., 10., 11.]])\n",
            "torch.Size([4, 3])\n"
          ]
        }
      ]
    },
    {
      "cell_type": "code",
      "source": [
        "print(ft.view([-1, 1, 3])) # (2, 2, 3) -> (2 x 2, 3) -> (2 x 2, 1, 3)\n",
        "print(ft.view([-1, 1, 3]).shape)"
      ],
      "metadata": {
        "colab": {
          "base_uri": "https://localhost:8080/"
        },
        "id": "X9G0_Y_UtMtd",
        "outputId": "fc02b477-5de8-495c-f701-b9fcabc6a700"
      },
      "execution_count": 5,
      "outputs": [
        {
          "output_type": "stream",
          "name": "stdout",
          "text": [
            "tensor([[[ 0.,  1.,  2.]],\n",
            "\n",
            "        [[ 3.,  4.,  5.]],\n",
            "\n",
            "        [[ 6.,  7.,  8.]],\n",
            "\n",
            "        [[ 9., 10., 11.]]])\n",
            "torch.Size([4, 1, 3])\n"
          ]
        }
      ]
    },
    {
      "cell_type": "markdown",
      "source": [
        "# Squeeze"
      ],
      "metadata": {
        "id": "5bt1eHrvunTm"
      }
    },
    {
      "cell_type": "code",
      "source": [
        "ft = torch.FloatTensor([[0],\n",
        "                        [1],\n",
        "                        [2]])\n",
        "print(ft)\n",
        "print(ft.shape)"
      ],
      "metadata": {
        "colab": {
          "base_uri": "https://localhost:8080/"
        },
        "id": "UVdfAKwYtfpk",
        "outputId": "f7784b73-bfd0-44c6-979a-04c39fa46357"
      },
      "execution_count": 7,
      "outputs": [
        {
          "output_type": "stream",
          "name": "stdout",
          "text": [
            "tensor([[0.],\n",
            "        [1.],\n",
            "        [2.]])\n",
            "torch.Size([3, 1])\n"
          ]
        }
      ]
    },
    {
      "cell_type": "code",
      "source": [
        "print(ft.squeeze())\n",
        "print(ft.squeeze().shape)"
      ],
      "metadata": {
        "colab": {
          "base_uri": "https://localhost:8080/"
        },
        "id": "BVo_I7iQ2J7N",
        "outputId": "31b72bfb-8b14-4f8f-c115-8c265a731d84"
      },
      "execution_count": 8,
      "outputs": [
        {
          "output_type": "stream",
          "name": "stdout",
          "text": [
            "tensor([0., 1., 2.])\n",
            "torch.Size([3])\n"
          ]
        }
      ]
    },
    {
      "cell_type": "markdown",
      "source": [
        "# Unsqueeze"
      ],
      "metadata": {
        "id": "WKiqLYOO2dV8"
      }
    },
    {
      "cell_type": "code",
      "source": [
        "ft = torch.FloatTensor([0, 1, 2])\n",
        "print(ft.shape)"
      ],
      "metadata": {
        "colab": {
          "base_uri": "https://localhost:8080/"
        },
        "id": "8Y5QAehG2X3Z",
        "outputId": "3027e276-ec3e-459d-ac16-203e3242470a"
      },
      "execution_count": 9,
      "outputs": [
        {
          "output_type": "stream",
          "name": "stdout",
          "text": [
            "torch.Size([3])\n"
          ]
        }
      ]
    },
    {
      "cell_type": "code",
      "source": [
        "print(ft.unsqueeze(0)) # |ft| = (3,) -> (1, 3)\n",
        "print(ft.unsqueeze(0).shape)"
      ],
      "metadata": {
        "colab": {
          "base_uri": "https://localhost:8080/"
        },
        "id": "zM1Nk76D27oU",
        "outputId": "55e399a2-6a9c-4e3c-9460-37e6687be784"
      },
      "execution_count": 10,
      "outputs": [
        {
          "output_type": "stream",
          "name": "stdout",
          "text": [
            "tensor([[0., 1., 2.]])\n",
            "torch.Size([1, 3])\n"
          ]
        }
      ]
    },
    {
      "cell_type": "code",
      "source": [
        "print(ft.view(1, -1))\n",
        "print(ft.view(1, -1).shape)"
      ],
      "metadata": {
        "colab": {
          "base_uri": "https://localhost:8080/"
        },
        "id": "5K7AIiOU3CqX",
        "outputId": "18d23e17-e3d4-4f76-d170-c2771b5fdabc"
      },
      "execution_count": 11,
      "outputs": [
        {
          "output_type": "stream",
          "name": "stdout",
          "text": [
            "tensor([[0., 1., 2.]])\n",
            "torch.Size([1, 3])\n"
          ]
        }
      ]
    },
    {
      "cell_type": "code",
      "source": [
        "print(ft.unsqueeze(1)) # |ft| = (3,) -> (3, 1)\n",
        "print(ft.unsqueeze(1).shape)"
      ],
      "metadata": {
        "colab": {
          "base_uri": "https://localhost:8080/"
        },
        "id": "5FcA-SRv3XSk",
        "outputId": "769c028c-d8e2-47f0-be9a-a67e3ee05e4b"
      },
      "execution_count": 12,
      "outputs": [
        {
          "output_type": "stream",
          "name": "stdout",
          "text": [
            "tensor([[0.],\n",
            "        [1.],\n",
            "        [2.]])\n",
            "torch.Size([3, 1])\n"
          ]
        }
      ]
    },
    {
      "cell_type": "code",
      "source": [
        "print(ft.unsqueeze(-1)) # dim = -1 -> dim = 1\n",
        "print(ft.unsqueeze(-1).shape)"
      ],
      "metadata": {
        "colab": {
          "base_uri": "https://localhost:8080/"
        },
        "id": "cFE9ml5R3wZL",
        "outputId": "1980808d-7ff4-44fc-99cd-467164a36222"
      },
      "execution_count": 13,
      "outputs": [
        {
          "output_type": "stream",
          "name": "stdout",
          "text": [
            "tensor([[0.],\n",
            "        [1.],\n",
            "        [2.]])\n",
            "torch.Size([3, 1])\n"
          ]
        }
      ]
    },
    {
      "cell_type": "markdown",
      "source": [
        "# Type Casting"
      ],
      "metadata": {
        "id": "MuDebjOe4MEz"
      }
    },
    {
      "cell_type": "code",
      "source": [
        "lt = torch.LongTensor([1, 2, 3, 4])\n",
        "lt"
      ],
      "metadata": {
        "colab": {
          "base_uri": "https://localhost:8080/"
        },
        "id": "gDsVDEUc4D1d",
        "outputId": "ff5759d1-3a47-4c0b-dad4-72041a734e74"
      },
      "execution_count": 14,
      "outputs": [
        {
          "output_type": "execute_result",
          "data": {
            "text/plain": [
              "tensor([1, 2, 3, 4])"
            ]
          },
          "metadata": {},
          "execution_count": 14
        }
      ]
    },
    {
      "cell_type": "code",
      "source": [
        "lt.float()"
      ],
      "metadata": {
        "colab": {
          "base_uri": "https://localhost:8080/"
        },
        "id": "gCvCqriK4VsB",
        "outputId": "13971be8-47d1-4f4e-ebf4-ac9b76af8a15"
      },
      "execution_count": 16,
      "outputs": [
        {
          "output_type": "execute_result",
          "data": {
            "text/plain": [
              "tensor([1., 2., 3., 4.])"
            ]
          },
          "metadata": {},
          "execution_count": 16
        }
      ]
    },
    {
      "cell_type": "code",
      "source": [
        "bt = torch.ByteTensor([True, False, False, True])\n",
        "bt"
      ],
      "metadata": {
        "colab": {
          "base_uri": "https://localhost:8080/"
        },
        "id": "-IdhhL8B4a45",
        "outputId": "a8d9b593-352a-457b-84f7-e748a77437c4"
      },
      "execution_count": 17,
      "outputs": [
        {
          "output_type": "execute_result",
          "data": {
            "text/plain": [
              "tensor([1, 0, 0, 1], dtype=torch.uint8)"
            ]
          },
          "metadata": {},
          "execution_count": 17
        }
      ]
    },
    {
      "cell_type": "code",
      "source": [
        "print(bt.long())\n",
        "print(bt.float())"
      ],
      "metadata": {
        "colab": {
          "base_uri": "https://localhost:8080/"
        },
        "id": "Nsx6RRdC4nDM",
        "outputId": "fda76f1e-a49f-420b-b63d-2852ef59c560"
      },
      "execution_count": 18,
      "outputs": [
        {
          "output_type": "stream",
          "name": "stdout",
          "text": [
            "tensor([1, 0, 0, 1])\n",
            "tensor([1., 0., 0., 1.])\n"
          ]
        }
      ]
    },
    {
      "cell_type": "markdown",
      "source": [
        "# concatenate"
      ],
      "metadata": {
        "id": "nBBOQcut5C1E"
      }
    },
    {
      "cell_type": "code",
      "source": [
        "x = torch.FloatTensor([[1, 2], # |x| = |y| = (2, 2)\n",
        "                       [3, 4]])\n",
        "y = torch.FloatTensor([[5, 6],\n",
        "                       [7, 8]])"
      ],
      "metadata": {
        "id": "NYVO8fXG5B7f"
      },
      "execution_count": 19,
      "outputs": []
    },
    {
      "cell_type": "code",
      "source": [
        "print(torch.cat([x, y], dim=0)) # (2, 2) -> (4, 2)\n",
        "print(torch.cat([x, y], dim=1)) # (2, 2) -> (2, 4)"
      ],
      "metadata": {
        "colab": {
          "base_uri": "https://localhost:8080/"
        },
        "id": "0IHkRkvm5Qz0",
        "outputId": "72f51553-f03a-4d78-8014-9379d3de4d4a"
      },
      "execution_count": 20,
      "outputs": [
        {
          "output_type": "stream",
          "name": "stdout",
          "text": [
            "tensor([[1., 2.],\n",
            "        [3., 4.],\n",
            "        [5., 6.],\n",
            "        [7., 8.]])\n",
            "tensor([[1., 2., 5., 6.],\n",
            "        [3., 4., 7., 8.]])\n"
          ]
        }
      ]
    },
    {
      "cell_type": "markdown",
      "source": [
        "# Stacking"
      ],
      "metadata": {
        "id": "HBPCHr4i6GmG"
      }
    },
    {
      "cell_type": "code",
      "source": [
        "x = torch.FloatTensor([1, 4]) # |x| = |y| = |z| = (2,)\n",
        "y = torch.FloatTensor([2, 5])\n",
        "z = torch.FloatTensor([3, 6])"
      ],
      "metadata": {
        "id": "0AgJqO1u5rbi"
      },
      "execution_count": 22,
      "outputs": []
    },
    {
      "cell_type": "code",
      "source": [
        "print(torch.stack([x, y, z])) # (2,) -> (3, 2)\n",
        "print(torch.stack([x, y, z], dim=1)) # (2,) -> (2, 3)"
      ],
      "metadata": {
        "colab": {
          "base_uri": "https://localhost:8080/"
        },
        "id": "iZWQ9SKM6RMg",
        "outputId": "feb0246b-5e05-4702-e035-768e869181a8"
      },
      "execution_count": 26,
      "outputs": [
        {
          "output_type": "stream",
          "name": "stdout",
          "text": [
            "tensor([[1., 4.],\n",
            "        [2., 5.],\n",
            "        [3., 6.]])\n",
            "tensor([[1., 2., 3.],\n",
            "        [4., 5., 6.]])\n"
          ]
        }
      ]
    },
    {
      "cell_type": "code",
      "source": [
        "print(torch.cat([x.unsqueeze(0), y.unsqueeze(0), z.unsqueeze(0)], dim=0))"
      ],
      "metadata": {
        "colab": {
          "base_uri": "https://localhost:8080/"
        },
        "id": "1RKeKZcl6ma7",
        "outputId": "85af2d7e-0a11-4165-bbd9-2f487479179f"
      },
      "execution_count": 27,
      "outputs": [
        {
          "output_type": "stream",
          "name": "stdout",
          "text": [
            "tensor([[1., 4.],\n",
            "        [2., 5.],\n",
            "        [3., 6.]])\n"
          ]
        }
      ]
    },
    {
      "cell_type": "markdown",
      "source": [
        "# Ones and Zeros"
      ],
      "metadata": {
        "id": "0I_WHrUg7u7Z"
      }
    },
    {
      "cell_type": "code",
      "source": [
        "x = torch.FloatTensor([[0, 1, 2],\n",
        "                       [2, 1, 0]])\n",
        "x"
      ],
      "metadata": {
        "colab": {
          "base_uri": "https://localhost:8080/"
        },
        "id": "_xwo0Ac-7aS4",
        "outputId": "ec320ff6-b775-49b3-9678-e72be8de37e9"
      },
      "execution_count": 29,
      "outputs": [
        {
          "output_type": "execute_result",
          "data": {
            "text/plain": [
              "tensor([[0., 1., 2.],\n",
              "        [2., 1., 0.]])"
            ]
          },
          "metadata": {},
          "execution_count": 29
        }
      ]
    },
    {
      "cell_type": "code",
      "source": [
        "print(torch.ones_like(x))\n",
        "print(torch.zeros_like(x))"
      ],
      "metadata": {
        "colab": {
          "base_uri": "https://localhost:8080/"
        },
        "id": "WDPTdUzd72ZP",
        "outputId": "28b1973b-6267-4d08-d72c-cbca9369e495"
      },
      "execution_count": 30,
      "outputs": [
        {
          "output_type": "stream",
          "name": "stdout",
          "text": [
            "tensor([[1., 1., 1.],\n",
            "        [1., 1., 1.]])\n",
            "tensor([[0., 0., 0.],\n",
            "        [0., 0., 0.]])\n"
          ]
        }
      ]
    },
    {
      "cell_type": "markdown",
      "source": [
        "# In-place Operation"
      ],
      "metadata": {
        "id": "jxG2tZqM8Tb4"
      }
    },
    {
      "cell_type": "code",
      "source": [
        "x = torch.FloatTensor([[1, 2],\n",
        "                       [3, 4]])"
      ],
      "metadata": {
        "id": "GpiQxaRk8BNK"
      },
      "execution_count": 31,
      "outputs": []
    },
    {
      "cell_type": "code",
      "source": [
        "print(x.mul(2.))\n",
        "print(x)\n",
        "print(x.mul_(2.))\n",
        "print(x)"
      ],
      "metadata": {
        "colab": {
          "base_uri": "https://localhost:8080/"
        },
        "id": "aFp3NMiS8bw_",
        "outputId": "0c7d8dd1-bdbd-4cb4-eb2f-963e8987fea4"
      },
      "execution_count": 32,
      "outputs": [
        {
          "output_type": "stream",
          "name": "stdout",
          "text": [
            "tensor([[2., 4.],\n",
            "        [6., 8.]])\n",
            "tensor([[1., 2.],\n",
            "        [3., 4.]])\n",
            "tensor([[2., 4.],\n",
            "        [6., 8.]])\n",
            "tensor([[2., 4.],\n",
            "        [6., 8.]])\n"
          ]
        }
      ]
    }
  ]
}