{
  "nbformat": 4,
  "nbformat_minor": 0,
  "metadata": {
    "colab": {
      "name": "PyTorch 03 Gradient descent.ipynb",
      "provenance": [],
      "authorship_tag": "ABX9TyNivdsAOrpq3E26VKZN+CKA",
      "include_colab_link": true
    },
    "kernelspec": {
      "name": "python3",
      "display_name": "Python 3"
    },
    "language_info": {
      "name": "python"
    }
  },
  "cells": [
    {
      "cell_type": "markdown",
      "metadata": {
        "id": "view-in-github",
        "colab_type": "text"
      },
      "source": [
        "<a href=\"https://colab.research.google.com/github/BrassicaNapus/Pytorch-Study/blob/main/PyTorch_03_Gradient_descent.ipynb\" target=\"_parent\"><img src=\"https://colab.research.google.com/assets/colab-badge.svg\" alt=\"Open In Colab\"/></a>"
      ]
    },
    {
      "cell_type": "code",
      "execution_count": 1,
      "metadata": {
        "id": "xuWFA5FVDNqZ"
      },
      "outputs": [],
      "source": [
        "import torch\n",
        "import torch.optim as optim"
      ]
    },
    {
      "cell_type": "code",
      "source": [
        "x_train = torch.FloatTensor([[1],\n",
        "                             [2],\n",
        "                             [3]])\n",
        "y_train = torch.FloatTensor([[1],\n",
        "                             [2],\n",
        "                             [3]])"
      ],
      "metadata": {
        "id": "ToHnM5c2E0dL"
      },
      "execution_count": 2,
      "outputs": []
    },
    {
      "cell_type": "code",
      "source": [
        "w = torch.zeros(1, requires_grad=True)\n",
        "# b = torch.zeros(1, requires_grad=True)\n",
        "hypothesis = x_train * w"
      ],
      "metadata": {
        "id": "d8tFYlfIE_VS"
      },
      "execution_count": 3,
      "outputs": []
    },
    {
      "cell_type": "code",
      "source": [
        "cost = torch.mean((hypothesis - y_train) ** 2)"
      ],
      "metadata": {
        "id": "YSuw3qMmFfs9"
      },
      "execution_count": 4,
      "outputs": []
    },
    {
      "cell_type": "code",
      "source": [
        "gradient = 2 * torch.mean((hypothesis - y_train) * x_train) # cost 미분\n",
        "lr = 0.1\n",
        "w -= lr * gradient"
      ],
      "metadata": {
        "id": "9T5bb1CAGC7S"
      },
      "execution_count": null,
      "outputs": []
    },
    {
      "cell_type": "code",
      "source": [
        "# 데이터\n",
        "x_train = torch.FloatTensor([[1],\n",
        "                             [2],\n",
        "                             [3]])\n",
        "y_train = torch.FloatTensor([[1],\n",
        "                             [2],\n",
        "                             [3]])\n",
        "\n",
        "# 모델 초기화\n",
        "w = torch.zeros(1)\n",
        "\n",
        "# learning rate 설정\n",
        "lr = 0.1\n",
        "\n",
        "epochs = 10\n",
        "for epoch in range(epochs + 1):\n",
        "    \n",
        "    # H(x) 계산\n",
        "    hypothesis = x_train * w\n",
        "\n",
        "    # cost gradient 계산\n",
        "    cost = torch.mean((hypothesis - y_train) ** 2)\n",
        "    gradient = torch.sum((w * x_train - y_train) * x_train)\n",
        "    \n",
        "    print(epoch, w.item(), cost.item())\n",
        "\n",
        "    # cost gradient로 H(x) 개선\n",
        "    w -= lr * gradient"
      ],
      "metadata": {
        "colab": {
          "base_uri": "https://localhost:8080/"
        },
        "id": "OgC4l-rdGZjb",
        "outputId": "e7043947-bc33-4907-cc76-c2a7351cabf7"
      },
      "execution_count": 10,
      "outputs": [
        {
          "output_type": "stream",
          "name": "stdout",
          "text": [
            "0 0.0 4.666666507720947\n",
            "1 1.399999976158142 0.7466664910316467\n",
            "2 0.8400000333786011 0.11946665495634079\n",
            "3 1.0640000104904175 0.0191146582365036\n",
            "4 0.9744000434875488 0.00305833644233644\n",
            "5 1.0102399587631226 0.0004893290461041033\n",
            "6 0.9959040284156799 7.829209789633751e-05\n",
            "7 1.001638412475586 1.2527179023891222e-05\n",
            "8 0.9993446469306946 2.0041973129991675e-06\n",
            "9 1.0002621412277222 3.206215808404522e-07\n",
            "10 0.9998951554298401 5.128529423359396e-08\n"
          ]
        }
      ]
    },
    {
      "cell_type": "code",
      "source": [
        "# 데이터\n",
        "x_train = torch.FloatTensor([[1],\n",
        "                             [2],\n",
        "                             [3]])\n",
        "y_train = torch.FloatTensor([[1],\n",
        "                             [2],\n",
        "                             [3]])\n",
        "\n",
        "# 모델 초기화\n",
        "w = torch.zeros(1, requires_grad=True)\n",
        "\n",
        "# optimizer 설정\n",
        "optimizer = optim.SGD([w], lr=0.15)\n",
        "\n",
        "epochs = 10\n",
        "for epoch in range(epochs + 1):\n",
        "\n",
        "    # hypothesis 계산\n",
        "    hypothesis = x_train * w\n",
        "\n",
        "    # cost 계산\n",
        "    cost = torch.mean((hypothesis - y_train) ** 2)\n",
        "\n",
        "    print(epoch, w.item(), cost.item())\n",
        "\n",
        "    # cost로 H(x) 개선\n",
        "    optimizer.zero_grad()\n",
        "    cost.backward()\n",
        "    optimizer.step()"
      ],
      "metadata": {
        "colab": {
          "base_uri": "https://localhost:8080/"
        },
        "id": "8HWVC8-wIJlj",
        "outputId": "a552219d-65bd-4c6b-9f86-af6d18a512a4"
      },
      "execution_count": 11,
      "outputs": [
        {
          "output_type": "stream",
          "name": "stdout",
          "text": [
            "0 0.0 4.666666507720947\n",
            "1 1.4000000953674316 0.7466669678688049\n",
            "2 0.8399999141693115 0.11946680396795273\n",
            "3 1.0640000104904175 0.0191146582365036\n",
            "4 0.9744000434875488 0.00305833644233644\n",
            "5 1.0102399587631226 0.0004893290461041033\n",
            "6 0.9959040284156799 7.829209789633751e-05\n",
            "7 1.001638412475586 1.2527179023891222e-05\n",
            "8 0.9993446469306946 2.0041973129991675e-06\n",
            "9 1.0002621412277222 3.206215808404522e-07\n",
            "10 0.9998951554298401 5.128529423359396e-08\n"
          ]
        }
      ]
    }
  ]
}