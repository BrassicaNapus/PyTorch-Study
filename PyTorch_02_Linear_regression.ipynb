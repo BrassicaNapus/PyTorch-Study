{
  "nbformat": 4,
  "nbformat_minor": 0,
  "metadata": {
    "colab": {
      "name": "PyTorch 02 Linear regression.ipynb",
      "provenance": [],
      "authorship_tag": "ABX9TyNmKfQiAQWimfKgncLdTiZy",
      "include_colab_link": true
    },
    "kernelspec": {
      "name": "python3",
      "display_name": "Python 3"
    },
    "language_info": {
      "name": "python"
    }
  },
  "cells": [
    {
      "cell_type": "markdown",
      "metadata": {
        "id": "view-in-github",
        "colab_type": "text"
      },
      "source": [
        "<a href=\"https://colab.research.google.com/github/BrassicaNapus/Pytorch-Study/blob/main/PyTorch_02_Linear_regression.ipynb\" target=\"_parent\"><img src=\"https://colab.research.google.com/assets/colab-badge.svg\" alt=\"Open In Colab\"/></a>"
      ]
    },
    {
      "cell_type": "code",
      "execution_count": 13,
      "metadata": {
        "id": "UTI-Ioye87Ri"
      },
      "outputs": [],
      "source": [
        "import torch\n",
        "import torch.optim as optim"
      ]
    },
    {
      "cell_type": "code",
      "source": [
        "x_train = torch.FloatTensor([[1],\n",
        "                             [2],\n",
        "                             [3]])\n",
        "y_train = torch.FloatTensor([[2],\n",
        "                             [4],\n",
        "                             [6]])"
      ],
      "metadata": {
        "id": "zGbezz5u9itX"
      },
      "execution_count": 14,
      "outputs": []
    },
    {
      "cell_type": "code",
      "source": [
        "# weight, bias 0으로 초기화 -> 항상 출력 0을 예측\n",
        "# requires_grad=True -> 학습할 것이라고 명시\n",
        "w = torch.zeros(1, requires_grad=True)\n",
        "b = torch.zeros(1, requires_grad=True)\n",
        "hypothesis = x_train * w + b"
      ],
      "metadata": {
        "id": "rEzLTSNF9zqt"
      },
      "execution_count": 15,
      "outputs": []
    },
    {
      "cell_type": "code",
      "source": [
        "cost = torch.mean((hypothesis - y_train) ** 2)"
      ],
      "metadata": {
        "id": "I1U_MCxl-jBn"
      },
      "execution_count": 16,
      "outputs": []
    },
    {
      "cell_type": "code",
      "source": [
        "optimizer = optim.SGD([w, b], lr=0.01) # [w, b]는 학습할 tensor들 / lr=0.01은 learning rate\n",
        "\n",
        "optimizer.zero_grad() # gradient 초기화\n",
        "cost.backward() # gradient 계산\n",
        "optimizer.step() # 개선"
      ],
      "metadata": {
        "id": "6OyZabak_B6l"
      },
      "execution_count": 17,
      "outputs": []
    },
    {
      "cell_type": "code",
      "source": [
        "# 데이터 정의\n",
        "x_train = torch.FloatTensor([[1],\n",
        "                             [2],\n",
        "                             [3]])\n",
        "y_train = torch.FloatTensor([[2],\n",
        "                             [4],\n",
        "                             [6]])\n",
        "\n",
        "# hypothesis 초기화\n",
        "w = torch.zeros(1, requires_grad=True)\n",
        "b = torch.zeros(1, requires_grad=True)\n",
        "\n",
        "# optimezer 정의\n",
        "optimizer = optim.SGD([w, b], lr=0.01)\n",
        "\n",
        "# 반복\n",
        "nb_epochs = 1000\n",
        "for epoch in range(1, nb_epochs + 1):\n",
        "    hypothesis = x_train * w + b # hypothesis 예측\n",
        "    cost = torch.mean((hypothesis - y_train) ** 2) # cost 계산\n",
        "\n",
        "    optimizer.zero_grad() # optimizer로 학습\n",
        "    cost.backward()\n",
        "    optimizer.step()"
      ],
      "metadata": {
        "id": "3MPylkrEBIWj"
      },
      "execution_count": 21,
      "outputs": []
    }
  ]
}